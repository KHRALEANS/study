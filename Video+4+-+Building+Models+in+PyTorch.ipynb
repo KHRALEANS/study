{
 "cells": [
  {
   "cell_type": "markdown",
   "metadata": {},
   "source": [
    "# Building Models in PyTorch\n",
    "\n",
    "\n",
    "## `torch.nn.Module` and `torch.nn.Parameter`\n",
    "\n",
    "In this video, we'll be discussing some of the tools PyTorch makes available for building deep learning networks.\n",
    "\n",
    "Except for `Parameter`, the classes we discuss in this video are all subclasses of `torch.nn.Module`. This is the PyTorch base class meant to encapsulate behaviors specific to PyTorch Models and their components.\n",
    "\n",
    "One important behavior of `torch.nn.Module` is registering parameters. If a particular `Module` subclass has learning weights, these weights are expressed as instances of `torch.nn.Parameter`. The `Parameter` class is a subclass of `torch.Tensor`, with the special behavior that when they are assigned as attributes of a `Module`, they are added to the list of that modules parameters. These parameters may be accessed through the `parameters()` method on the `Module` class.\n",
    "\n",
    "As a simple example, here's a very simple model with two linear layers and an activation function. We'll create an instance of it and ask it to report on its parameters:"
   ]
  },
  {
   "cell_type": "code",
   "execution_count": 1,
   "metadata": {},
   "outputs": [
    {
     "name": "stdout",
     "output_type": "stream",
     "text": [
      "The model:\n",
      "TinyModel(\n",
      "  (linear1): Linear(in_features=100, out_features=200, bias=True)\n",
      "  (activation): ReLU()\n",
      "  (linear2): Linear(in_features=200, out_features=10, bias=True)\n",
      "  (softmax): Softmax(dim=None)\n",
      ")\n",
      "\n",
      "\n",
      "Just one layer:\n",
      "Linear(in_features=200, out_features=10, bias=True)\n",
      "\n",
      "\n",
      "Model params:\n",
      "Parameter containing:\n",
      "tensor([[ 0.0444, -0.0906,  0.0019,  ...,  0.0935,  0.0901, -0.0449],\n",
      "        [ 0.0732,  0.0685, -0.0918,  ...,  0.0449, -0.0313,  0.0803],\n",
      "        [-0.0032,  0.0430, -0.0263,  ...,  0.0020,  0.0650, -0.0881],\n",
      "        ...,\n",
      "        [-0.0508, -0.0217,  0.0412,  ..., -0.0178, -0.0332,  0.0013],\n",
      "        [-0.0727, -0.0588, -0.0628,  ...,  0.0247, -0.0551,  0.0343],\n",
      "        [-0.0854,  0.0197,  0.0241,  ..., -0.0203,  0.0639, -0.0290]],\n",
      "       requires_grad=True)\n",
      "Parameter containing:\n",
      "tensor([-5.9709e-02,  7.9414e-02,  4.2917e-02, -5.8608e-02, -4.4755e-02,\n",
      "         8.4248e-02,  7.9752e-02, -9.6085e-02, -9.1545e-02, -7.8108e-02,\n",
      "        -7.5736e-03,  1.8572e-02,  4.7293e-03,  8.2768e-02, -1.9282e-02,\n",
      "         7.4094e-02,  8.2849e-02,  6.7464e-03,  7.8719e-02, -7.6411e-02,\n",
      "         9.6667e-02,  3.2780e-02, -5.9545e-03, -3.2188e-02, -8.1699e-02,\n",
      "         3.3994e-02, -7.3177e-02, -5.3945e-02,  4.1780e-02,  9.5830e-02,\n",
      "        -4.5816e-03, -3.1534e-02, -1.5975e-02,  1.2649e-03, -2.4821e-02,\n",
      "        -7.9979e-03, -3.4385e-02,  8.3105e-02, -6.7616e-03, -1.2754e-02,\n",
      "         4.5053e-02, -4.6366e-02, -7.1712e-02,  3.9612e-02,  7.0650e-03,\n",
      "        -4.9251e-02,  5.2735e-02, -1.2731e-02, -8.4662e-02,  7.0181e-02,\n",
      "         9.9182e-02,  8.5334e-02,  9.0054e-02,  5.4726e-02, -1.4167e-02,\n",
      "        -2.3962e-02,  2.6586e-02, -8.2799e-02,  4.5376e-02, -7.0918e-02,\n",
      "         8.9493e-03, -6.7845e-02, -9.8173e-02,  9.3825e-02, -4.6334e-02,\n",
      "        -6.2008e-02,  9.5338e-02, -7.1239e-02,  4.6094e-02, -5.2676e-02,\n",
      "        -1.5414e-02, -5.2163e-02, -5.5515e-02,  8.2089e-02, -2.5691e-02,\n",
      "         5.8366e-02, -5.9427e-02, -9.6471e-03, -9.9849e-02,  7.4102e-02,\n",
      "        -5.8338e-05,  5.1731e-03,  1.1871e-02, -4.0188e-02,  2.1508e-02,\n",
      "        -9.5357e-02, -9.1759e-02, -7.6257e-02, -9.7245e-02, -6.4361e-02,\n",
      "        -5.7318e-02, -9.7254e-02,  1.9822e-03,  2.9469e-03,  4.8445e-03,\n",
      "         9.5189e-02, -2.1426e-02, -8.4243e-02, -6.8693e-02, -5.9180e-03,\n",
      "        -4.1332e-02,  3.6390e-02,  2.9931e-02,  2.1888e-02, -8.1015e-02,\n",
      "         3.7904e-02,  2.2776e-02,  9.8275e-02,  4.4073e-02, -3.8627e-02,\n",
      "        -5.5073e-02, -4.9157e-02,  4.3305e-02,  1.3712e-02, -4.6030e-02,\n",
      "         7.8596e-02,  7.3675e-02, -2.8595e-02, -2.1586e-02,  8.4810e-02,\n",
      "        -7.8538e-03,  6.7497e-02,  2.0366e-02,  7.8183e-02, -5.4071e-03,\n",
      "        -8.2102e-02,  8.7797e-02, -6.4608e-02, -1.6446e-02, -3.0888e-03,\n",
      "        -4.9269e-02,  4.1963e-02, -6.7887e-02,  6.0694e-02, -6.8555e-02,\n",
      "        -4.8106e-02, -3.0256e-02, -2.0517e-02,  1.5872e-03,  8.2883e-02,\n",
      "        -1.8091e-02, -2.8146e-03, -5.9558e-02,  1.0731e-02,  3.9791e-02,\n",
      "         7.4984e-02, -5.2169e-02, -6.0121e-02,  3.8347e-02,  3.1576e-02,\n",
      "        -6.7203e-02,  1.1374e-03,  5.2533e-02,  2.5081e-03, -3.0337e-02,\n",
      "         7.4365e-02,  9.8142e-02,  7.3445e-02,  9.5472e-02,  9.2081e-02,\n",
      "        -8.6017e-03,  8.4333e-02, -3.8577e-02,  9.7119e-02,  6.1282e-02,\n",
      "         7.3209e-02,  8.5509e-02,  1.7595e-02,  1.2991e-02, -3.2279e-02,\n",
      "         6.2330e-03, -5.2234e-02, -2.6428e-02,  7.0496e-02, -7.7567e-03,\n",
      "         4.2899e-02, -4.9531e-02,  8.3719e-02, -4.7111e-02, -3.2334e-02,\n",
      "        -4.9462e-02, -3.3925e-02,  4.6472e-02, -8.2334e-02, -4.8055e-04,\n",
      "         8.0899e-02, -3.5912e-02, -1.0094e-02,  8.4746e-02,  3.6381e-02,\n",
      "        -5.5404e-02, -1.4023e-02,  4.3216e-02,  1.1191e-02, -5.3568e-02,\n",
      "        -1.7427e-02, -2.5389e-02,  2.6494e-02,  1.6230e-02, -8.9466e-02],\n",
      "       requires_grad=True)\n",
      "Parameter containing:\n",
      "tensor([[ 0.0305, -0.0369,  0.0299,  ..., -0.0209, -0.0073,  0.0397],\n",
      "        [ 0.0666, -0.0007, -0.0576,  ..., -0.0536,  0.0539, -0.0262],\n",
      "        [ 0.0583, -0.0475, -0.0298,  ..., -0.0673, -0.0633,  0.0183],\n",
      "        ...,\n",
      "        [-0.0260,  0.0101,  0.0371,  ..., -0.0335,  0.0690, -0.0289],\n",
      "        [ 0.0307, -0.0559, -0.0643,  ..., -0.0409,  0.0381,  0.0249],\n",
      "        [ 0.0298, -0.0356, -0.0632,  ...,  0.0088, -0.0011, -0.0013]],\n",
      "       requires_grad=True)\n",
      "Parameter containing:\n",
      "tensor([ 0.0092, -0.0285,  0.0650, -0.0481,  0.0507, -0.0141, -0.0075,  0.0605,\n",
      "        -0.0273,  0.0187], requires_grad=True)\n",
      "\n",
      "\n",
      "Layer params:\n",
      "Parameter containing:\n",
      "tensor([[ 0.0305, -0.0369,  0.0299,  ..., -0.0209, -0.0073,  0.0397],\n",
      "        [ 0.0666, -0.0007, -0.0576,  ..., -0.0536,  0.0539, -0.0262],\n",
      "        [ 0.0583, -0.0475, -0.0298,  ..., -0.0673, -0.0633,  0.0183],\n",
      "        ...,\n",
      "        [-0.0260,  0.0101,  0.0371,  ..., -0.0335,  0.0690, -0.0289],\n",
      "        [ 0.0307, -0.0559, -0.0643,  ..., -0.0409,  0.0381,  0.0249],\n",
      "        [ 0.0298, -0.0356, -0.0632,  ...,  0.0088, -0.0011, -0.0013]],\n",
      "       requires_grad=True)\n",
      "Parameter containing:\n",
      "tensor([ 0.0092, -0.0285,  0.0650, -0.0481,  0.0507, -0.0141, -0.0075,  0.0605,\n",
      "        -0.0273,  0.0187], requires_grad=True)\n"
     ]
    }
   ],
   "source": [
    "import torch\n",
    "\n",
    "class TinyModel(torch.nn.Module):\n",
    "    \n",
    "    def __init__(self):\n",
    "        super(TinyModel, self).__init__()\n",
    "        \n",
    "        self.linear1 = torch.nn.Linear(100, 200)\n",
    "        self.activation = torch.nn.ReLU()\n",
    "        self.linear2 = torch.nn.Linear(200, 10)\n",
    "        self.softmax = torch.nn.Softmax()\n",
    "    \n",
    "    def forward(self, x):\n",
    "        x = self.linear1(x)\n",
    "        x = self.activation(x)\n",
    "        x = self.linear2(x)\n",
    "        x = self.softmax(x)\n",
    "        return x\n",
    "\n",
    "tinymodel = TinyModel()\n",
    "\n",
    "print('The model:')\n",
    "print(tinymodel)\n",
    "\n",
    "print('\\n\\nJust one layer:')\n",
    "print(tinymodel.linear2)\n",
    "\n",
    "print('\\n\\nModel params:')\n",
    "for param in tinymodel.parameters():\n",
    "    print(param)\n",
    "\n",
    "print('\\n\\nLayer params:')\n",
    "for param in tinymodel.linear2.parameters():\n",
    "    print(param)"
   ]
  },
  {
   "cell_type": "markdown",
   "metadata": {},
   "source": [
    "This shows the fundamental structure of a PyTorch model: there is an `__init__()` method that defines the layers and other components of a model, and a `forward()` method where the computation gets done. Note that we can print the model, or any of its submodules, to learn about its structure.\n",
    "\n",
    "## Common Layer Types\n",
    "\n",
    "### Linear Layers\n",
    "\n",
    "The most basic type of neural network layer is a *linear* or *fully connected* layer. This is a layer where every input influences every output of the layer to a degree specified by the layer's weights. If a model has *m* inputs and *n* outputs, the weights will be an *m * n* matrix. For example:"
   ]
  },
  {
   "cell_type": "code",
   "execution_count": 2,
   "metadata": {},
   "outputs": [
    {
     "name": "stdout",
     "output_type": "stream",
     "text": [
      "Input:\n",
      "tensor([[0.0103, 0.4004, 0.1367]])\n",
      "\n",
      "\n",
      "Weight and Bias parameters:\n",
      "Parameter containing:\n",
      "tensor([[-0.2991, -0.4381,  0.1861],\n",
      "        [-0.5386,  0.3071, -0.0441]], requires_grad=True)\n",
      "Parameter containing:\n",
      "tensor([0.3320, 0.3099], requires_grad=True)\n",
      "\n",
      "\n",
      "Output:\n",
      "tensor([[0.1789, 0.4213]], grad_fn=<AddmmBackward0>)\n"
     ]
    }
   ],
   "source": [
    "lin = torch.nn.Linear(3, 2)\n",
    "x = torch.rand(1, 3)\n",
    "print('Input:')\n",
    "print(x)\n",
    "\n",
    "print('\\n\\nWeight and Bias parameters:')\n",
    "for param in lin.parameters():\n",
    "    print(param)\n",
    "\n",
    "y = lin(x)\n",
    "print('\\n\\nOutput:')\n",
    "print(y)"
   ]
  },
  {
   "cell_type": "markdown",
   "metadata": {},
   "source": [
    "If you do the matrix multiplication of `x` by the linear layer's weights, and add the biases, you'll find that you get the output vector `y`.\n",
    "\n",
    "One other important feature to note: When we checked the weights of our layer with `lin.weight`, it reported itself as a `Parameter` (which is a subclass of `Tensor`), and let us know that it's tracking gradients with autograd. This is a default behavior for `Parameter` that differs from `Tensor`.\n",
    "\n",
    "Linear layers are used widely in deep learning models. One of the most common places you'll see them is in classifier models, which will usually have one or more linear layers at the end, where the last layer will have *n* outputs, where *n* is the number of classes the classifier addresses.\n",
    "\n",
    "### Convolutional Layers\n",
    "\n",
    "*Convolutional* layers are built to handle data with a high degree of spatial correlation. They are very commonly used in computer vision, where they detect close groupings of features which the compose into higher-level features. They pop up in other contexts too - for example, in NLP applications, where the a word's immediate context (that is, the other words nearby in the sequence) can affect the meaning of a sentence.\n",
    "\n",
    "We saw convolutional layers in action in LeNet5 in an earlier video:"
   ]
  },
  {
   "cell_type": "code",
   "execution_count": 3,
   "metadata": {},
   "outputs": [],
   "source": [
    "import torch.functional as F\n",
    "\n",
    "\n",
    "class LeNet(torch.nn.Module):\n",
    "\n",
    "    def __init__(self):\n",
    "        super(LeNet, self).__init__()\n",
    "        # 1 input image channel (black & white), 6 output channels, 3x3 square convolution\n",
    "        # kernel\n",
    "        self.conv1 = torch.nn.Conv2d(1, 6, 5)\n",
    "        self.conv2 = torch.nn.Conv2d(6, 16, 3)\n",
    "        # an affine operation: y = Wx + b\n",
    "        self.fc1 = torch.nn.Linear(16 * 6 * 6, 120)  # 6*6 from image dimension\n",
    "        self.fc2 = torch.nn.Linear(120, 84)\n",
    "        self.fc3 = torch.nn.Linear(84, 10)\n",
    "\n",
    "    def forward(self, x):\n",
    "        # Max pooling over a (2, 2) window\n",
    "        x = F.max_pool2d(F.relu(self.conv1(x)), (2, 2))\n",
    "        # If the size is a square you can only specify a single number\n",
    "        x = F.max_pool2d(F.relu(self.conv2(x)), 2)\n",
    "        x = x.view(-1, self.num_flat_features(x))\n",
    "        x = F.relu(self.fc1(x))\n",
    "        x = F.relu(self.fc2(x))\n",
    "        x = self.fc3(x)\n",
    "        return x\n",
    "\n",
    "    def num_flat_features(self, x):\n",
    "        size = x.size()[1:]  # all dimensions except the batch dimension\n",
    "        num_features = 1\n",
    "        for s in size:\n",
    "            num_features *= s\n",
    "        return num_features"
   ]
  },
  {
   "cell_type": "markdown",
   "metadata": {},
   "source": [
    "Let's break down what's happening in the convolutional layers of this model. Starting with `conv1`:\n",
    "\n",
    "* LeNet5 is meant to take in a 1x32x32 black & white image. **The first argument to a convolutional layer's constructor is the number of input channels.** Here, it is 1. If we were building this model to look at 3-color channels, it would be 3.\n",
    "* A convolutional layer is like a window that scans over the image, looking for a pattern it recognizes. These patterns are called *features,* and one of the parameters of a convolutional layer is the number of features we would like it to learn. **This is the second argument to the constructor is the number of output features.** Here, we're asking our layer to learn 6 features.\n",
    "* Just above, I likened the convolutional layer to a window - but how big is the window? **The third argument is the window or *kernel* size.** Here, the \"5\" means we've chosen a 5x5 kernel. (If you want a kernel with height different from width, you can specify a tuple for this argument - e.g., `(3, 5)` to get a 3x5 convolution kernel.)\n",
    "\n",
    "The output of a convolutional layer is an *activation map* - a spatial representation of the presence of features in the input tensor. `conv1` will give us an output tensor of 6x28x28; 6 is the number of features, and 28 is the height and width of our map. (The 28 comes from the fact that when scanning a 5-pixel window over a 32-pixel row, there are only 28 valid positions.)\n",
    "\n",
    "We then pass the output of the convolution through a ReLU activation function (more on activation functions later), then through a max pooling layer. The max pooling layer takes features near each other in the activation map and groups them together. It does this by reducing the tensor, merging every 2x2 group of cells in the output into a single cell, and assigning that cell the maximum value of the 4 cells that went into it. This gives us a lower-resolution version of the activation map, with dimensions 6x14x14.\n",
    "\n",
    "Our next convolutional layer, `conv2`, expects 6 input channels (corresponding to the 6 features sought by the first layer), has 16 output channels, and a 3x3 kernel. It puts out a 16x12x12 activation map, which is again reduced by a max pooling layer to 16x6x6. Prior to passing this output to the linear layers, it is reshaped to a 16 * 6 * 6 = 576-element vector for consumption by the next layer.\n",
    "\n",
    "There are convolutional layers for addressing 1D, 2D, and 3D tensors. There are also many more optional arguments for a conv layer constructor, including stride length(e.g., only scanning every second or every third position) in the input, padding (so you can scan out to the edges of the input), and more. See the [documentation](https://pytorch.org/docs/stable/nn.html#convolution-layers) for more information.\n",
    "\n",
    "### Recurrent Layers\n",
    "\n",
    "*Recurrent neural networks* (or *RNNs)* are used for sequential data - anything from time-series measurements from a scientific instrument to natural language sentences to DNA nucleotides. An RNN does this by maintaining a *hidden state* that acts as a sort of memory for what it has seen in the sequence so far.\n",
    "\n",
    "The internal structure of an RNN layer - or its variants, the LSTM (long short-term memory) and GRU (gated recurrent unit) - is moderately complex and beyond the scope of this video, but we'll show you what one looks like in action with an LSTM-based part-of-speech tagger (a type of classifier that tells you if a word is a noun, verb, etc.):"
   ]
  },
  {
   "cell_type": "code",
   "execution_count": 4,
   "metadata": {},
   "outputs": [],
   "source": [
    "class LSTMTagger(torch.nn.Module):\n",
    "\n",
    "    def __init__(self, embedding_dim, hidden_dim, vocab_size, tagset_size):\n",
    "        super(LSTMTagger, self).__init__()\n",
    "        self.hidden_dim = hidden_dim\n",
    "\n",
    "        self.word_embeddings = torch.nn.Embedding(vocab_size, embedding_dim)\n",
    "\n",
    "        # The LSTM takes word embeddings as inputs, and outputs hidden states\n",
    "        # with dimensionality hidden_dim.\n",
    "        self.lstm = torch.nn.LSTM(embedding_dim, hidden_dim)\n",
    "\n",
    "        # The linear layer that maps from hidden state space to tag space\n",
    "        self.hidden2tag = torch.nn.Linear(hidden_dim, tagset_size)\n",
    "\n",
    "    def forward(self, sentence):\n",
    "        embeds = self.word_embeddings(sentence)\n",
    "        lstm_out, _ = self.lstm(embeds.view(len(sentence), 1, -1))\n",
    "        tag_space = self.hidden2tag(lstm_out.view(len(sentence), -1))\n",
    "        tag_scores = F.log_softmax(tag_space, dim=1)\n",
    "        return tag_scores"
   ]
  },
  {
   "cell_type": "markdown",
   "metadata": {},
   "source": [
    "The constructor has four arguments:\n",
    "\n",
    "* `vocab_size` is the number of words in the input vocabulary. Each word is a one-hot vector (or unit vector) in a `vocab_size`-dimensional space.\n",
    "* `tagset_size` is the number of tags in the output set.\n",
    "* `embedding_dim` is the size of the *embedding* space for the vocabulary. An embedding maps a vocabulary onto a low-dimensional space, where words with similar meanings are close together in the space.\n",
    "* `hidden_dim` is the size of the LSTM's memory.\n",
    "\n",
    "The input will be a sentence with the words represented as indices of of one-hot vectors. The embedding layer will then map these down to an `embedding_dim`-dimensional space. The LSTM takes this sequence of embeddings and iterates over it, fielding an output vector of length `hidden_dim`. The final linear layer acts as a classifier; applying `log_softmax()` to the output of the final layer converts the output into a normalized set of estimated probabilities that a given word maps to a given tag.\n",
    "\n",
    "If you'd like to see this network in action, check out the [Sequence Models and LSTM Networks](https://pytorch.org/tutorials/beginner/nlp/sequence_models_tutorial.html) tutorial on pytorch.org.\n",
    "\n",
    "### Transformers\n",
    "\n",
    "*Transformers* are multi-purpose networks that have taken over the state of the art in NLP with models like BERT. A discussion of transformer architecture is beyond the scope of this video, but PyTorch has a `Transformer` class that allows you to define the overall parameters of a transformer model - the number of attention heads, the number of encoder & decoder layers, dropout and activation functions, etc. (You can even build the BERT model from this single class, with the right parameters!) The `torch.nn.Transformer` class also has classes to encapsulate the individual components (`TransformerEncoder`, `TransformerDecoder`) and subcomponents (`TransformerEncoderLayer`, `TransformerDecoderLayer`). For details, check out the [documentation](https://pytorch.org/docs/stable/nn.html#transformer) on transformer classes, and the relevant [tutorial](https://pytorch.org/tutorials/beginner/transformer_tutorial.html) on pytorch.org.\n",
    "\n",
    "## Other Layers and Functions\n",
    "\n",
    "### Data Manipulation Layers\n",
    "\n",
    "There are other layer types that perform important functions in models, but don't participate in the learning process themselves.\n",
    "\n",
    "**Max pooling** (and its twin, min pooling) reduce a tensor by combining cells, and assigning the maximum value of the input cells to the output cell. (We saw this ) For example:"
   ]
  },
  {
   "cell_type": "code",
   "execution_count": 5,
   "metadata": {},
   "outputs": [
    {
     "name": "stdout",
     "output_type": "stream",
     "text": [
      "tensor([[[0.8160, 0.1406, 0.5950, 0.0883, 0.5464, 0.3993],\n",
      "         [0.0623, 0.6626, 0.3991, 0.4878, 0.7548, 0.2426],\n",
      "         [0.9081, 0.4207, 0.8590, 0.3784, 0.6931, 0.5609],\n",
      "         [0.6182, 0.8588, 0.3766, 0.9734, 0.9662, 0.9880],\n",
      "         [0.0599, 0.8338, 0.6750, 0.0829, 0.3554, 0.3998],\n",
      "         [0.6159, 0.7129, 0.8945, 0.8717, 0.9930, 0.9059]]])\n",
      "tensor([[[0.9081, 0.7548],\n",
      "         [0.8945, 0.9930]]])\n"
     ]
    }
   ],
   "source": [
    "my_tensor = torch.rand(1, 6, 6)\n",
    "print(my_tensor)\n",
    "\n",
    "maxpool_layer = torch.nn.MaxPool2d(3)\n",
    "print(maxpool_layer(my_tensor))"
   ]
  },
  {
   "cell_type": "markdown",
   "metadata": {},
   "source": [
    "If you look closely at the values above, you'll see that each of the values in the maxpooled output is the maximum value of each quadrant of the 6x6 input.\n",
    "\n",
    "**Normalization layers** re-center and normalize the output of one layer before feeding it to another. Centering the and scaling the intermediate tensors has a number of beneficial effects, such as letting you use higher learning rates without exploding/vanishing gradients."
   ]
  },
  {
   "cell_type": "code",
   "execution_count": 6,
   "metadata": {},
   "outputs": [
    {
     "name": "stdout",
     "output_type": "stream",
     "text": [
      "tensor([[[18.0634,  5.6720,  5.7805, 12.3243],\n",
      "         [ 9.3712, 19.7366,  6.4853, 22.8629],\n",
      "         [14.6223, 21.5803, 17.8267, 20.3997],\n",
      "         [21.7664,  5.0936, 19.5952, 11.8554]]])\n",
      "tensor(14.5647)\n",
      "tensor([[[ 1.4762, -0.9296, -0.9086,  0.3619],\n",
      "         [-0.7650,  0.7475, -1.1862,  1.2037],\n",
      "         [-1.4918,  1.1130, -0.2922,  0.6710],\n",
      "         [ 1.0893, -1.4371,  0.7603, -0.4125]]],\n",
      "       grad_fn=<NativeBatchNormBackward>)\n",
      "tensor(1.3039e-08, grad_fn=<MeanBackward0>)\n"
     ]
    }
   ],
   "source": [
    "my_tensor = torch.rand(1, 4, 4) * 20 + 5\n",
    "print(my_tensor)\n",
    "\n",
    "print(my_tensor.mean())\n",
    "\n",
    "norm_layer = torch.nn.BatchNorm1d(4)\n",
    "normed_tensor = norm_layer(my_tensor)\n",
    "print(normed_tensor)\n",
    "\n",
    "print(normed_tensor.mean())\n"
   ]
  },
  {
   "cell_type": "markdown",
   "metadata": {},
   "source": [
    "Running the cell above, we've added a large scaling factor and offset to an input tensor; you should see the input tensor's `mean()` somewhere in the neighborhood of 15. After running it through the normalization layer, you can see that the values are smaller, and grouped around zero - in fact, the mean should be very small (> 1e-8).\n",
    "\n",
    "This is beneficial because many activation functions (discussed below) have their strongest gradients near 0, but sometimes suffer from vanishing or exploding gradients for inputs that drive them far away from zero. Keeping the data centered around the area of steepest gradient will tend to mean faster, better learning and higher feasible learning rates.\n",
    "\n",
    "**Dropout layers** are a tool for encouraging *sparse representations* in your model - that is, pushing it to do inference with less data.\n",
    "\n",
    "Dropout layers work by randomly setting parts of the input tensor *during training* - dropout layers are always turned off for inference. This forces the model to learn against this masked or reduced dataset. For example:"
   ]
  },
  {
   "cell_type": "code",
   "execution_count": 9,
   "metadata": {},
   "outputs": [
    {
     "name": "stdout",
     "output_type": "stream",
     "text": [
      "tensor([[[0.0000, 1.1702, 0.5911, 0.0000],\n",
      "         [0.1932, 1.4928, 1.2912, 0.0000],\n",
      "         [0.1236, 1.3672, 0.0000, 0.0000],\n",
      "         [0.0000, 0.0000, 0.0000, 0.0000]]])\n",
      "tensor([[[1.5033, 1.1702, 0.5911, 0.9341],\n",
      "         [0.0000, 0.0000, 0.0000, 1.5020],\n",
      "         [0.1236, 1.3672, 0.0000, 0.0000],\n",
      "         [0.4993, 0.9576, 0.0000, 1.6664]]])\n"
     ]
    }
   ],
   "source": [
    "my_tensor = torch.rand(1, 4, 4)\n",
    "\n",
    "dropout = torch.nn.Dropout(p=0.4)\n",
    "print(dropout(my_tensor))\n",
    "print(dropout(my_tensor))"
   ]
  },
  {
   "cell_type": "markdown",
   "metadata": {},
   "source": [
    "Above, you can see the effect of dropout on a sample tensor. You can use the optional `p` argument to set the probability of an individual weight dropping out; if you don't it defaults to 0.5.\n",
    "\n",
    "### Activation Functions\n",
    "\n",
    "Activation functions make deep learning possible. A neural network is really a program - with many parameters - that *simulates a mathematical function*. If all we did was multiple tensors by layer weights repeatedly, we could only simulate *linear functions;* further, there would be no point to having many layers, as the whole network would reduce could be reduced to a single matrix multiplication. Inserting *non-linear* activation functions between layers is what allows a deep learning model to simulate any function, rather than just linear ones.\n",
    "\n",
    "`torch.nn.Module` has objects encapsulating all of the major activation functions including ReLU and its many variants, Tanh, Hardtanh, sigmoid, and more. It also includes other functions, such as Softmax, that are most useful at the output stage of a model.\n",
    "\n",
    "### Loss Functions\n",
    "\n",
    "Loss functions tell us how far a model's prediction is from the correct answer. PyTorch contains a variety of loss functions, including common MSE (mean squared error = L2 norm), Cross Entropy Loss and Negative Likelihood Loss (useful for classifiers), and others."
   ]
  },
  {
   "cell_type": "markdown",
   "metadata": {},
   "source": [
    "## Advanced: Replacing Layers"
   ]
  },
  {
   "cell_type": "code",
   "execution_count": null,
   "metadata": {},
   "outputs": [],
   "source": []
  },
  {
   "cell_type": "code",
   "execution_count": null,
   "metadata": {},
   "outputs": [],
   "source": []
  }
 ],
 "metadata": {
  "kernelspec": {
   "display_name": "Python 3.9.10 64-bit",
   "language": "python",
   "name": "python3"
  },
  "language_info": {
   "codemirror_mode": {
    "name": "ipython",
    "version": 3
   },
   "file_extension": ".py",
   "mimetype": "text/x-python",
   "name": "python",
   "nbconvert_exporter": "python",
   "pygments_lexer": "ipython3",
   "version": "3.9.10"
  },
  "vscode": {
   "interpreter": {
    "hash": "b0fa6594d8f4cbf19f97940f81e996739fb7646882a419484c72d19e05852a7e"
   }
  }
 },
 "nbformat": 4,
 "nbformat_minor": 4
}
